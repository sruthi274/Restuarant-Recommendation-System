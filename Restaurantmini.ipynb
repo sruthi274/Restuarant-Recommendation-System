{
 "cells": [
  {
   "cell_type": "code",
   "execution_count": 1,
   "id": "c41c1ae8",
   "metadata": {},
   "outputs": [],
   "source": [
    "import numpy as np\n",
    "import pandas as pd\n",
    "import seaborn as sb\n",
    "import matplotlib.pyplot as plt\n",
    "import seaborn as sns\n",
    "from sklearn.linear_model import LogisticRegression\n",
    "from sklearn.linear_model import LinearRegression\n",
    "from sklearn.model_selection import train_test_split\n",
    "from sklearn.metrics import classification_report\n",
    "from sklearn.metrics import confusion_matrix\n",
    "from sklearn.metrics import r2_score\n",
    "import warnings\n",
    "warnings.filterwarnings('always')\n",
    "warnings.filterwarnings('ignore')\n",
    "import re\n",
    "from nltk.corpus import stopwords\n",
    "from sklearn.metrics.pairwise import linear_kernel\n",
    "from sklearn.feature_extraction.text import CountVectorizer\n",
    "from sklearn.feature_extraction.text import TfidfVectorizer\n",
    "import pickle"
   ]
  },
  {
   "cell_type": "code",
   "execution_count": 2,
   "id": "cfd4b121",
   "metadata": {},
   "outputs": [
    {
     "data": {
      "text/html": [
       "<div>\n",
       "<style scoped>\n",
       "    .dataframe tbody tr th:only-of-type {\n",
       "        vertical-align: middle;\n",
       "    }\n",
       "\n",
       "    .dataframe tbody tr th {\n",
       "        vertical-align: top;\n",
       "    }\n",
       "\n",
       "    .dataframe thead th {\n",
       "        text-align: right;\n",
       "    }\n",
       "</style>\n",
       "<table border=\"1\" class=\"dataframe\">\n",
       "  <thead>\n",
       "    <tr style=\"text-align: right;\">\n",
       "      <th></th>\n",
       "      <th>url</th>\n",
       "      <th>address</th>\n",
       "      <th>name</th>\n",
       "      <th>online_order</th>\n",
       "      <th>book_table</th>\n",
       "      <th>rate</th>\n",
       "      <th>votes</th>\n",
       "      <th>phone</th>\n",
       "      <th>location</th>\n",
       "      <th>rest_type</th>\n",
       "      <th>dish_liked</th>\n",
       "      <th>cuisines</th>\n",
       "      <th>approx_cost(for two people)</th>\n",
       "      <th>reviews_list</th>\n",
       "      <th>menu_item</th>\n",
       "      <th>listed_in(type)</th>\n",
       "      <th>listed_in(city)</th>\n",
       "    </tr>\n",
       "  </thead>\n",
       "  <tbody>\n",
       "    <tr>\n",
       "      <th>0</th>\n",
       "      <td>https://www.zomato.com/bangalore/jalsa-banasha...</td>\n",
       "      <td>942, 21st Main Road, 2nd Stage, Banashankari, ...</td>\n",
       "      <td>Jalsa</td>\n",
       "      <td>Yes</td>\n",
       "      <td>Yes</td>\n",
       "      <td>4.1/5</td>\n",
       "      <td>775</td>\n",
       "      <td>080 42297555\\r\\n+91 9743772233</td>\n",
       "      <td>Banashankari</td>\n",
       "      <td>Casual Dining</td>\n",
       "      <td>Pasta, Lunch Buffet, Masala Papad, Paneer Laja...</td>\n",
       "      <td>North Indian, Mughlai, Chinese</td>\n",
       "      <td>800</td>\n",
       "      <td>[('Rated 4.0', 'RATED\\n  A beautiful place to ...</td>\n",
       "      <td>[]</td>\n",
       "      <td>Buffet</td>\n",
       "      <td>Banashankari</td>\n",
       "    </tr>\n",
       "    <tr>\n",
       "      <th>1</th>\n",
       "      <td>https://www.zomato.com/bangalore/spice-elephan...</td>\n",
       "      <td>2nd Floor, 80 Feet Road, Near Big Bazaar, 6th ...</td>\n",
       "      <td>Spice Elephant</td>\n",
       "      <td>Yes</td>\n",
       "      <td>No</td>\n",
       "      <td>4.1/5</td>\n",
       "      <td>787</td>\n",
       "      <td>080 41714161</td>\n",
       "      <td>Banashankari</td>\n",
       "      <td>Casual Dining</td>\n",
       "      <td>Momos, Lunch Buffet, Chocolate Nirvana, Thai G...</td>\n",
       "      <td>Chinese, North Indian, Thai</td>\n",
       "      <td>800</td>\n",
       "      <td>[('Rated 4.0', 'RATED\\n  Had been here for din...</td>\n",
       "      <td>[]</td>\n",
       "      <td>Buffet</td>\n",
       "      <td>Banashankari</td>\n",
       "    </tr>\n",
       "  </tbody>\n",
       "</table>\n",
       "</div>"
      ],
      "text/plain": [
       "                                                 url  \\\n",
       "0  https://www.zomato.com/bangalore/jalsa-banasha...   \n",
       "1  https://www.zomato.com/bangalore/spice-elephan...   \n",
       "\n",
       "                                             address            name  \\\n",
       "0  942, 21st Main Road, 2nd Stage, Banashankari, ...           Jalsa   \n",
       "1  2nd Floor, 80 Feet Road, Near Big Bazaar, 6th ...  Spice Elephant   \n",
       "\n",
       "  online_order book_table   rate  votes                           phone  \\\n",
       "0          Yes        Yes  4.1/5    775  080 42297555\\r\\n+91 9743772233   \n",
       "1          Yes         No  4.1/5    787                    080 41714161   \n",
       "\n",
       "       location      rest_type  \\\n",
       "0  Banashankari  Casual Dining   \n",
       "1  Banashankari  Casual Dining   \n",
       "\n",
       "                                          dish_liked  \\\n",
       "0  Pasta, Lunch Buffet, Masala Papad, Paneer Laja...   \n",
       "1  Momos, Lunch Buffet, Chocolate Nirvana, Thai G...   \n",
       "\n",
       "                         cuisines approx_cost(for two people)  \\\n",
       "0  North Indian, Mughlai, Chinese                         800   \n",
       "1     Chinese, North Indian, Thai                         800   \n",
       "\n",
       "                                        reviews_list menu_item  \\\n",
       "0  [('Rated 4.0', 'RATED\\n  A beautiful place to ...        []   \n",
       "1  [('Rated 4.0', 'RATED\\n  Had been here for din...        []   \n",
       "\n",
       "  listed_in(type) listed_in(city)  \n",
       "0          Buffet    Banashankari  \n",
       "1          Buffet    Banashankari  "
      ]
     },
     "execution_count": 2,
     "metadata": {},
     "output_type": "execute_result"
    }
   ],
   "source": [
    "zomato_real=pd.read_csv(r\"C:\\Users\\hp\\Downloads\\zomato.csv (1).zip\")\n",
    "zomato_real.head(2) "
   ]
  },
  {
   "cell_type": "code",
   "execution_count": 3,
   "id": "a4c67aea",
   "metadata": {},
   "outputs": [],
   "source": [
    "#Deleting Unnnecessary Columns\n",
    "zomato=zomato_real.drop(['url','dish_liked','phone'],axis=1) #Dropping the column \"dish_liked\", \"phone\", \"url\" and saving the new dataset as \"zomato\""
   ]
  },
  {
   "cell_type": "code",
   "execution_count": 4,
   "id": "8041da3e",
   "metadata": {},
   "outputs": [],
   "source": [
    "#Removing the Duplicates\n",
    "zomato.duplicated().sum()\n",
    "zomato.drop_duplicates(inplace=True)"
   ]
  },
  {
   "cell_type": "code",
   "execution_count": 5,
   "id": "8ecf58bc",
   "metadata": {},
   "outputs": [],
   "source": [
    "#Remove the NaN values from the dataset\n",
    "zomato.isnull().sum()\n",
    "zomato.dropna(how='any',inplace=True)"
   ]
  },
  {
   "cell_type": "code",
   "execution_count": 6,
   "id": "18e9c5f7",
   "metadata": {},
   "outputs": [],
   "source": [
    "#Changing the column names\n",
    "zomato = zomato.rename(columns={'approx_cost(for two people)':'cost','listed_in(type)':'type', 'listed_in(city)':'city'})"
   ]
  },
  {
   "cell_type": "code",
   "execution_count": 7,
   "id": "e73f476b",
   "metadata": {},
   "outputs": [],
   "source": [
    "#Some Transformations\n",
    "zomato['cost'] = zomato['cost'].astype(str) #Changing the cost to string\n",
    "zomato['cost'] = zomato['cost'].apply(lambda x: x.replace(',','.')) #Using lambda function to replace ',' from cost\n",
    "zomato['cost'] = zomato['cost'].astype(float)"
   ]
  },
  {
   "cell_type": "code",
   "execution_count": 8,
   "id": "9d7cf2af",
   "metadata": {},
   "outputs": [],
   "source": [
    "#Removing '/5' from Rates\n",
    "zomato = zomato.loc[zomato.rate !='NEW']\n",
    "zomato = zomato.loc[zomato.rate !='-'].reset_index(drop=True)\n",
    "remove_slash = lambda x: x.replace('/5', '') if type(x) == str else x\n",
    "zomato.rate = zomato.rate.apply(remove_slash).str.strip().astype('float')"
   ]
  },
  {
   "cell_type": "code",
   "execution_count": 9,
   "id": "05e4f2d5",
   "metadata": {},
   "outputs": [],
   "source": [
    "# Adjust the column names\n",
    "zomato.name = zomato.name.apply(lambda x:x.title())\n",
    "zomato.online_order.replace(('Yes','No'),(True, False),inplace=True)\n",
    "zomato.book_table.replace(('Yes','No'),(True, False),inplace=True)"
   ]
  },
  {
   "cell_type": "code",
   "execution_count": 10,
   "id": "ec4b0f3d",
   "metadata": {},
   "outputs": [],
   "source": [
    "## Computing Mean Rating\n",
    "restaurants = list(zomato['name'].unique())\n",
    "zomato['Mean Rating'] = 0"
   ]
  },
  {
   "cell_type": "code",
   "execution_count": 11,
   "id": "589c50cb",
   "metadata": {},
   "outputs": [],
   "source": [
    "for i in range(len(restaurants)):\n",
    "    zomato['Mean Rating'][zomato['name'] == restaurants[i]] = zomato['rate'][zomato['name'] == restaurants[i]].mean()\n",
    "    \n",
    "from sklearn.preprocessing import MinMaxScaler\n",
    "scaler = MinMaxScaler(feature_range = (1,5))\n",
    "zomato[['Mean Rating']] = scaler.fit_transform(zomato[['Mean Rating']]).round(2)"
   ]
  },
  {
   "cell_type": "code",
   "execution_count": 12,
   "id": "1c6754fd",
   "metadata": {},
   "outputs": [
    {
     "data": {
      "text/plain": [
       "Index(['address', 'name', 'online_order', 'book_table', 'rate', 'votes',\n",
       "       'location', 'rest_type', 'cuisines', 'cost', 'reviews_list',\n",
       "       'menu_item', 'type', 'city', 'Mean Rating'],\n",
       "      dtype='object')"
      ]
     },
     "execution_count": 12,
     "metadata": {},
     "output_type": "execute_result"
    }
   ],
   "source": [
    "zomato.columns"
   ]
  },
  {
   "cell_type": "code",
   "execution_count": 13,
   "id": "7d829d68",
   "metadata": {},
   "outputs": [
    {
     "data": {
      "text/plain": [
       "(41237, 15)"
      ]
     },
     "execution_count": 13,
     "metadata": {},
     "output_type": "execute_result"
    }
   ],
   "source": [
    "zomato.shape"
   ]
  },
  {
   "cell_type": "code",
   "execution_count": 14,
   "id": "05d5536c",
   "metadata": {},
   "outputs": [
    {
     "name": "stderr",
     "output_type": "stream",
     "text": [
      "[nltk_data] Downloading package stopwords to\n",
      "[nltk_data]     C:\\Users\\hp\\AppData\\Roaming\\nltk_data...\n",
      "[nltk_data]   Package stopwords is already up-to-date!\n"
     ]
    },
    {
     "data": {
      "text/plain": [
       "True"
      ]
     },
     "execution_count": 14,
     "metadata": {},
     "output_type": "execute_result"
    }
   ],
   "source": [
    "import nltk\n",
    "nltk.download('stopwords')"
   ]
  },
  {
   "cell_type": "code",
   "execution_count": 15,
   "id": "bc7e561b",
   "metadata": {},
   "outputs": [],
   "source": [
    "## Lower Casing\n",
    "zomato[\"reviews_list\"] = zomato[\"reviews_list\"].str.lower()"
   ]
  },
  {
   "cell_type": "code",
   "execution_count": 16,
   "id": "4c363846",
   "metadata": {},
   "outputs": [],
   "source": [
    "## Removal of Puctuations\n",
    "import string\n",
    "PUNCT_TO_REMOVE = string.punctuation\n",
    "def remove_punctuation(text):\n",
    "    \"\"\"custom function to remove the punctuation\"\"\"\n",
    "    return text.translate(str.maketrans('', '', PUNCT_TO_REMOVE))\n",
    "\n",
    "zomato[\"reviews_list\"] = zomato[\"reviews_list\"].apply(lambda text: remove_punctuation(text))"
   ]
  },
  {
   "cell_type": "code",
   "execution_count": 17,
   "id": "a7ca0e1f",
   "metadata": {},
   "outputs": [],
   "source": [
    "## Removal of Stopwords\n",
    "from nltk.corpus import stopwords\n",
    "STOPWORDS = set(stopwords.words('english'))\n",
    "def remove_stopwords(text):\n",
    "    \"\"\"custom function to remove the stopwords\"\"\"\n",
    "    return \" \".join([word for word in str(text).split() if word not in STOPWORDS])\n",
    "\n",
    "zomato[\"reviews_list\"] = zomato[\"reviews_list\"].apply(lambda text: remove_stopwords(text))"
   ]
  },
  {
   "cell_type": "code",
   "execution_count": 18,
   "id": "8adc29b5",
   "metadata": {},
   "outputs": [],
   "source": [
    "## Removal of URLS\n",
    "def remove_urls(text):\n",
    "    url_pattern = re.compile(r'https?://\\S+|www\\.\\S+')\n",
    "    return url_pattern.sub(r'', text)\n",
    "\n",
    "zomato[\"reviews_list\"] = zomato[\"reviews_list\"].apply(lambda text: remove_urls(text))"
   ]
  },
  {
   "cell_type": "code",
   "execution_count": 19,
   "id": "80d68e07",
   "metadata": {},
   "outputs": [],
   "source": [
    "#zomato[['reviews_list', 'cuisines']].sample(5)"
   ]
  },
  {
   "cell_type": "code",
   "execution_count": 20,
   "id": "3c573511",
   "metadata": {},
   "outputs": [],
   "source": [
    "# RESTAURANT NAMES:\n",
    "restaurant_names = list(zomato['name'].unique())\n",
    "def get_top_words(column, top_nu_of_words, nu_of_word):\n",
    "    vec = CountVectorizer(ngram_range= nu_of_word, stop_words='english')\n",
    "    bag_of_words = vec.fit_transform(column)\n",
    "    sum_words = bag_of_words.sum(axis=0)\n",
    "    words_freq = [(word, sum_words[0, idx]) for word, idx in vec.vocabulary_.items()]\n",
    "    words_freq =sorted(words_freq, key = lambda x: x[1], reverse=True)\n",
    "    return words_freq[:top_nu_of_words]"
   ]
  },
  {
   "cell_type": "code",
   "execution_count": 21,
   "id": "fa7b4374",
   "metadata": {},
   "outputs": [],
   "source": [
    "#print(restaurant_names)"
   ]
  },
  {
   "cell_type": "code",
   "execution_count": 22,
   "id": "fc87a6b5",
   "metadata": {},
   "outputs": [],
   "source": [
    "zomato=zomato.drop(['address','rest_type', 'type', 'menu_item', 'votes', 'city', 'location'],axis=1)\n",
    "zomato.drop_duplicates(inplace=True)\n",
    "import pandas"
   ]
  },
  {
   "cell_type": "code",
   "execution_count": 23,
   "id": "0f5fafb2",
   "metadata": {},
   "outputs": [
    {
     "data": {
      "text/html": [
       "<div>\n",
       "<style scoped>\n",
       "    .dataframe tbody tr th:only-of-type {\n",
       "        vertical-align: middle;\n",
       "    }\n",
       "\n",
       "    .dataframe tbody tr th {\n",
       "        vertical-align: top;\n",
       "    }\n",
       "\n",
       "    .dataframe thead th {\n",
       "        text-align: right;\n",
       "    }\n",
       "</style>\n",
       "<table border=\"1\" class=\"dataframe\">\n",
       "  <thead>\n",
       "    <tr style=\"text-align: right;\">\n",
       "      <th></th>\n",
       "      <th>name</th>\n",
       "      <th>online_order</th>\n",
       "      <th>book_table</th>\n",
       "      <th>rate</th>\n",
       "      <th>cuisines</th>\n",
       "      <th>cost</th>\n",
       "      <th>reviews_list</th>\n",
       "      <th>Mean Rating</th>\n",
       "    </tr>\n",
       "  </thead>\n",
       "  <tbody>\n",
       "    <tr>\n",
       "      <th>0</th>\n",
       "      <td>Jalsa</td>\n",
       "      <td>True</td>\n",
       "      <td>True</td>\n",
       "      <td>4.1</td>\n",
       "      <td>North Indian, Mughlai, Chinese</td>\n",
       "      <td>800.0</td>\n",
       "      <td>rated 40 ratedn beautiful place dine inthe int...</td>\n",
       "      <td>3.99</td>\n",
       "    </tr>\n",
       "    <tr>\n",
       "      <th>1</th>\n",
       "      <td>Spice Elephant</td>\n",
       "      <td>True</td>\n",
       "      <td>False</td>\n",
       "      <td>4.1</td>\n",
       "      <td>Chinese, North Indian, Thai</td>\n",
       "      <td>800.0</td>\n",
       "      <td>rated 40 ratedn dinner family turned good choo...</td>\n",
       "      <td>3.97</td>\n",
       "    </tr>\n",
       "    <tr>\n",
       "      <th>2</th>\n",
       "      <td>San Churro Cafe</td>\n",
       "      <td>True</td>\n",
       "      <td>False</td>\n",
       "      <td>3.8</td>\n",
       "      <td>Cafe, Mexican, Italian</td>\n",
       "      <td>800.0</td>\n",
       "      <td>rated 30 ratedn ambience good enough pocket fr...</td>\n",
       "      <td>3.58</td>\n",
       "    </tr>\n",
       "    <tr>\n",
       "      <th>3</th>\n",
       "      <td>Addhuri Udupi Bhojana</td>\n",
       "      <td>False</td>\n",
       "      <td>False</td>\n",
       "      <td>3.7</td>\n",
       "      <td>South Indian, North Indian</td>\n",
       "      <td>300.0</td>\n",
       "      <td>rated 40 ratedn great food proper karnataka st...</td>\n",
       "      <td>3.45</td>\n",
       "    </tr>\n",
       "    <tr>\n",
       "      <th>4</th>\n",
       "      <td>Grand Village</td>\n",
       "      <td>False</td>\n",
       "      <td>False</td>\n",
       "      <td>3.8</td>\n",
       "      <td>North Indian, Rajasthani</td>\n",
       "      <td>600.0</td>\n",
       "      <td>rated 40 ratedn good restaurant neighbourhood ...</td>\n",
       "      <td>3.58</td>\n",
       "    </tr>\n",
       "  </tbody>\n",
       "</table>\n",
       "</div>"
      ],
      "text/plain": [
       "                    name  online_order  book_table  rate  \\\n",
       "0                  Jalsa          True        True   4.1   \n",
       "1         Spice Elephant          True       False   4.1   \n",
       "2        San Churro Cafe          True       False   3.8   \n",
       "3  Addhuri Udupi Bhojana         False       False   3.7   \n",
       "4          Grand Village         False       False   3.8   \n",
       "\n",
       "                         cuisines   cost  \\\n",
       "0  North Indian, Mughlai, Chinese  800.0   \n",
       "1     Chinese, North Indian, Thai  800.0   \n",
       "2          Cafe, Mexican, Italian  800.0   \n",
       "3      South Indian, North Indian  300.0   \n",
       "4        North Indian, Rajasthani  600.0   \n",
       "\n",
       "                                        reviews_list  Mean Rating  \n",
       "0  rated 40 ratedn beautiful place dine inthe int...         3.99  \n",
       "1  rated 40 ratedn dinner family turned good choo...         3.97  \n",
       "2  rated 30 ratedn ambience good enough pocket fr...         3.58  \n",
       "3  rated 40 ratedn great food proper karnataka st...         3.45  \n",
       "4  rated 40 ratedn good restaurant neighbourhood ...         3.58  "
      ]
     },
     "execution_count": 23,
     "metadata": {},
     "output_type": "execute_result"
    }
   ],
   "source": [
    "zomato.head()"
   ]
  },
  {
   "cell_type": "code",
   "execution_count": 24,
   "id": "6520f423",
   "metadata": {},
   "outputs": [
    {
     "data": {
      "text/html": [
       "<div>\n",
       "<style scoped>\n",
       "    .dataframe tbody tr th:only-of-type {\n",
       "        vertical-align: middle;\n",
       "    }\n",
       "\n",
       "    .dataframe tbody tr th {\n",
       "        vertical-align: top;\n",
       "    }\n",
       "\n",
       "    .dataframe thead th {\n",
       "        text-align: right;\n",
       "    }\n",
       "</style>\n",
       "<table border=\"1\" class=\"dataframe\">\n",
       "  <thead>\n",
       "    <tr style=\"text-align: right;\">\n",
       "      <th></th>\n",
       "      <th>name</th>\n",
       "      <th>online_order</th>\n",
       "      <th>book_table</th>\n",
       "      <th>rate</th>\n",
       "      <th>cuisines</th>\n",
       "      <th>cost</th>\n",
       "      <th>reviews_list</th>\n",
       "      <th>Mean Rating</th>\n",
       "    </tr>\n",
       "  </thead>\n",
       "  <tbody>\n",
       "    <tr>\n",
       "      <th>0</th>\n",
       "      <td>Jalsa</td>\n",
       "      <td>True</td>\n",
       "      <td>True</td>\n",
       "      <td>4.1</td>\n",
       "      <td>North Indian, Mughlai, Chinese</td>\n",
       "      <td>800.0</td>\n",
       "      <td>rated 40 ratedn beautiful place dine inthe int...</td>\n",
       "      <td>3.99</td>\n",
       "    </tr>\n",
       "    <tr>\n",
       "      <th>400</th>\n",
       "      <td>Jalsa</td>\n",
       "      <td>True</td>\n",
       "      <td>True</td>\n",
       "      <td>4.1</td>\n",
       "      <td>North Indian, Mughlai, Chinese</td>\n",
       "      <td>800.0</td>\n",
       "      <td>rated 40 ratedn beautiful place dine inthe int...</td>\n",
       "      <td>3.99</td>\n",
       "    </tr>\n",
       "    <tr>\n",
       "      <th>485</th>\n",
       "      <td>Jalsa</td>\n",
       "      <td>True</td>\n",
       "      <td>True</td>\n",
       "      <td>4.1</td>\n",
       "      <td>North Indian, Mughlai, Chinese</td>\n",
       "      <td>800.0</td>\n",
       "      <td>rated 40 ratedn beautiful place dine inthe int...</td>\n",
       "      <td>3.99</td>\n",
       "    </tr>\n",
       "    <tr>\n",
       "      <th>1942</th>\n",
       "      <td>Jalsa</td>\n",
       "      <td>True</td>\n",
       "      <td>True</td>\n",
       "      <td>4.1</td>\n",
       "      <td>North Indian, Mughlai, Chinese</td>\n",
       "      <td>800.0</td>\n",
       "      <td>rated 40 ratedn beautiful place dine inthe int...</td>\n",
       "      <td>3.99</td>\n",
       "    </tr>\n",
       "    <tr>\n",
       "      <th>2775</th>\n",
       "      <td>Jalsa</td>\n",
       "      <td>True</td>\n",
       "      <td>True</td>\n",
       "      <td>4.1</td>\n",
       "      <td>North Indian, Mughlai, Chinese</td>\n",
       "      <td>800.0</td>\n",
       "      <td>rated 40 ratedn super ambiencengreat food spic...</td>\n",
       "      <td>3.99</td>\n",
       "    </tr>\n",
       "    <tr>\n",
       "      <th>6104</th>\n",
       "      <td>Jalsa</td>\n",
       "      <td>True</td>\n",
       "      <td>True</td>\n",
       "      <td>4.2</td>\n",
       "      <td>North Indian, Mughlai</td>\n",
       "      <td>1.5</td>\n",
       "      <td>rated 40 ratedn pretty decent place eat mughal...</td>\n",
       "      <td>3.99</td>\n",
       "    </tr>\n",
       "    <tr>\n",
       "      <th>15334</th>\n",
       "      <td>Jalsa</td>\n",
       "      <td>True</td>\n",
       "      <td>True</td>\n",
       "      <td>4.1</td>\n",
       "      <td>North Indian, Mughlai, Chinese</td>\n",
       "      <td>800.0</td>\n",
       "      <td>rated 40 ratedn beautiful place dine inthe int...</td>\n",
       "      <td>3.99</td>\n",
       "    </tr>\n",
       "    <tr>\n",
       "      <th>16883</th>\n",
       "      <td>Jalsa</td>\n",
       "      <td>True</td>\n",
       "      <td>True</td>\n",
       "      <td>4.1</td>\n",
       "      <td>North Indian, Mughlai, Chinese</td>\n",
       "      <td>800.0</td>\n",
       "      <td>rated 40 ratedn beautiful place dine inthe int...</td>\n",
       "      <td>3.99</td>\n",
       "    </tr>\n",
       "    <tr>\n",
       "      <th>32920</th>\n",
       "      <td>Jalsa</td>\n",
       "      <td>True</td>\n",
       "      <td>True</td>\n",
       "      <td>4.2</td>\n",
       "      <td>North Indian, Mughlai</td>\n",
       "      <td>1.5</td>\n",
       "      <td>rated 40 ratedn friendly staff average ambienc...</td>\n",
       "      <td>3.99</td>\n",
       "    </tr>\n",
       "  </tbody>\n",
       "</table>\n",
       "</div>"
      ],
      "text/plain": [
       "        name  online_order  book_table  rate                        cuisines  \\\n",
       "0      Jalsa          True        True   4.1  North Indian, Mughlai, Chinese   \n",
       "400    Jalsa          True        True   4.1  North Indian, Mughlai, Chinese   \n",
       "485    Jalsa          True        True   4.1  North Indian, Mughlai, Chinese   \n",
       "1942   Jalsa          True        True   4.1  North Indian, Mughlai, Chinese   \n",
       "2775   Jalsa          True        True   4.1  North Indian, Mughlai, Chinese   \n",
       "6104   Jalsa          True        True   4.2           North Indian, Mughlai   \n",
       "15334  Jalsa          True        True   4.1  North Indian, Mughlai, Chinese   \n",
       "16883  Jalsa          True        True   4.1  North Indian, Mughlai, Chinese   \n",
       "32920  Jalsa          True        True   4.2           North Indian, Mughlai   \n",
       "\n",
       "        cost                                       reviews_list  Mean Rating  \n",
       "0      800.0  rated 40 ratedn beautiful place dine inthe int...         3.99  \n",
       "400    800.0  rated 40 ratedn beautiful place dine inthe int...         3.99  \n",
       "485    800.0  rated 40 ratedn beautiful place dine inthe int...         3.99  \n",
       "1942   800.0  rated 40 ratedn beautiful place dine inthe int...         3.99  \n",
       "2775   800.0  rated 40 ratedn super ambiencengreat food spic...         3.99  \n",
       "6104     1.5  rated 40 ratedn pretty decent place eat mughal...         3.99  \n",
       "15334  800.0  rated 40 ratedn beautiful place dine inthe int...         3.99  \n",
       "16883  800.0  rated 40 ratedn beautiful place dine inthe int...         3.99  \n",
       "32920    1.5  rated 40 ratedn friendly staff average ambienc...         3.99  "
      ]
     },
     "execution_count": 24,
     "metadata": {},
     "output_type": "execute_result"
    }
   ],
   "source": [
    "zomato.loc[(zomato['name']=='Jalsa')]"
   ]
  },
  {
   "cell_type": "code",
   "execution_count": 25,
   "id": "49713734",
   "metadata": {},
   "outputs": [],
   "source": [
    " zomato = (zomato.groupby(['name','online_order','book_table'])\n",
    "      .agg({'cuisines': lambda x: \",\".join(x),'reviews_list': lambda x: \",\".join(x),'rate':'mean','cost':'mean','Mean Rating':'mean'})\n",
    "      .rename({'rate' : 'mean_rate','cost' : 'mean_cost', 'Mean Rating': 'Mean Rating'},axis=1)\n",
    "      .reset_index())"
   ]
  },
  {
   "cell_type": "code",
   "execution_count": 26,
   "id": "1061ee93",
   "metadata": {},
   "outputs": [
    {
     "data": {
      "text/plain": [
       "(7184, 8)"
      ]
     },
     "execution_count": 26,
     "metadata": {},
     "output_type": "execute_result"
    }
   ],
   "source": [
    "zomato.shape"
   ]
  },
  {
   "cell_type": "code",
   "execution_count": 27,
   "id": "637f306b",
   "metadata": {},
   "outputs": [],
   "source": [
    "zomato.set_index('name', inplace=True)\n",
    "indices = pd.Series(zomato.index)\n",
    "zomato.reset_index(inplace=True)"
   ]
  },
  {
   "cell_type": "code",
   "execution_count": 28,
   "id": "ef5eb89a",
   "metadata": {},
   "outputs": [],
   "source": [
    "# # Randomly sample 60% of your dataframe\n",
    "# df_percent = zomato.sample(frac=0.5)\n",
    "# df_percent.set_index('name', inplace=True)\n",
    "# indices = pd.Series(df_percent.index)"
   ]
  },
  {
   "cell_type": "code",
   "execution_count": 29,
   "id": "c41c8f4e",
   "metadata": {},
   "outputs": [],
   "source": [
    "# df_percent.reset_index(inplace=True)"
   ]
  },
  {
   "cell_type": "code",
   "execution_count": 30,
   "id": "e86a6adf",
   "metadata": {},
   "outputs": [
    {
     "data": {
      "text/plain": [
       "Index(['name', 'online_order', 'book_table', 'cuisines', 'reviews_list',\n",
       "       'mean_rate', 'mean_cost', 'Mean Rating'],\n",
       "      dtype='object')"
      ]
     },
     "execution_count": 30,
     "metadata": {},
     "output_type": "execute_result"
    }
   ],
   "source": [
    "zomato.columns"
   ]
  },
  {
   "cell_type": "code",
   "execution_count": 31,
   "id": "a1844a58",
   "metadata": {},
   "outputs": [
    {
     "data": {
      "text/html": [
       "<div>\n",
       "<style scoped>\n",
       "    .dataframe tbody tr th:only-of-type {\n",
       "        vertical-align: middle;\n",
       "    }\n",
       "\n",
       "    .dataframe tbody tr th {\n",
       "        vertical-align: top;\n",
       "    }\n",
       "\n",
       "    .dataframe thead th {\n",
       "        text-align: right;\n",
       "    }\n",
       "</style>\n",
       "<table border=\"1\" class=\"dataframe\">\n",
       "  <thead>\n",
       "    <tr style=\"text-align: right;\">\n",
       "      <th></th>\n",
       "      <th>name</th>\n",
       "      <th>online_order</th>\n",
       "      <th>book_table</th>\n",
       "      <th>cuisines</th>\n",
       "      <th>reviews_list</th>\n",
       "      <th>mean_rate</th>\n",
       "      <th>mean_cost</th>\n",
       "      <th>Mean Rating</th>\n",
       "    </tr>\n",
       "  </thead>\n",
       "  <tbody>\n",
       "    <tr>\n",
       "      <th>3034</th>\n",
       "      <td>Jalsa</td>\n",
       "      <td>True</td>\n",
       "      <td>True</td>\n",
       "      <td>North Indian, Mughlai, Chinese,North Indian, M...</td>\n",
       "      <td>rated 40 ratedn beautiful place dine inthe int...</td>\n",
       "      <td>4.122222</td>\n",
       "      <td>622.555556</td>\n",
       "      <td>3.99</td>\n",
       "    </tr>\n",
       "  </tbody>\n",
       "</table>\n",
       "</div>"
      ],
      "text/plain": [
       "       name  online_order  book_table  \\\n",
       "3034  Jalsa          True        True   \n",
       "\n",
       "                                               cuisines  \\\n",
       "3034  North Indian, Mughlai, Chinese,North Indian, M...   \n",
       "\n",
       "                                           reviews_list  mean_rate  \\\n",
       "3034  rated 40 ratedn beautiful place dine inthe int...   4.122222   \n",
       "\n",
       "       mean_cost  Mean Rating  \n",
       "3034  622.555556         3.99  "
      ]
     },
     "execution_count": 31,
     "metadata": {},
     "output_type": "execute_result"
    }
   ],
   "source": [
    "zomato.loc[(zomato['name']=='Jalsa')]"
   ]
  },
  {
   "cell_type": "code",
   "execution_count": 32,
   "id": "70118c58",
   "metadata": {},
   "outputs": [],
   "source": [
    "### links\n",
    "## https://stackoverflow.com/questions/64235312/how-to-implodereverse-of-pandas-explode-based-on-a-column"
   ]
  },
  {
   "cell_type": "code",
   "execution_count": 33,
   "id": "5cc544c7",
   "metadata": {},
   "outputs": [
    {
     "data": {
      "text/html": [
       "<div>\n",
       "<style scoped>\n",
       "    .dataframe tbody tr th:only-of-type {\n",
       "        vertical-align: middle;\n",
       "    }\n",
       "\n",
       "    .dataframe tbody tr th {\n",
       "        vertical-align: top;\n",
       "    }\n",
       "\n",
       "    .dataframe thead th {\n",
       "        text-align: right;\n",
       "    }\n",
       "</style>\n",
       "<table border=\"1\" class=\"dataframe\">\n",
       "  <thead>\n",
       "    <tr style=\"text-align: right;\">\n",
       "      <th></th>\n",
       "      <th>name</th>\n",
       "      <th>online_order</th>\n",
       "      <th>book_table</th>\n",
       "      <th>cuisines</th>\n",
       "      <th>reviews_list</th>\n",
       "      <th>mean_rate</th>\n",
       "      <th>mean_cost</th>\n",
       "      <th>Mean Rating</th>\n",
       "    </tr>\n",
       "  </thead>\n",
       "  <tbody>\n",
       "    <tr>\n",
       "      <th>0</th>\n",
       "      <td>#Feeltheroll</td>\n",
       "      <td>False</td>\n",
       "      <td>False</td>\n",
       "      <td>Fast Food,Fast Food</td>\n",
       "      <td>rated 50 ratedn egg chicken roll paneer roll r...</td>\n",
       "      <td>3.4</td>\n",
       "      <td>200.0</td>\n",
       "      <td>3.06</td>\n",
       "    </tr>\n",
       "    <tr>\n",
       "      <th>1</th>\n",
       "      <td>#L-81 Cafe</td>\n",
       "      <td>True</td>\n",
       "      <td>False</td>\n",
       "      <td>Fast Food, Beverages,Fast Food, Beverages,Fast...</td>\n",
       "      <td>rated 40 ratedn little cafe set beautiful loca...</td>\n",
       "      <td>3.9</td>\n",
       "      <td>400.0</td>\n",
       "      <td>3.71</td>\n",
       "    </tr>\n",
       "  </tbody>\n",
       "</table>\n",
       "</div>"
      ],
      "text/plain": [
       "           name  online_order  book_table  \\\n",
       "0  #Feeltheroll         False       False   \n",
       "1    #L-81 Cafe          True       False   \n",
       "\n",
       "                                            cuisines  \\\n",
       "0                                Fast Food,Fast Food   \n",
       "1  Fast Food, Beverages,Fast Food, Beverages,Fast...   \n",
       "\n",
       "                                        reviews_list  mean_rate  mean_cost  \\\n",
       "0  rated 50 ratedn egg chicken roll paneer roll r...        3.4      200.0   \n",
       "1  rated 40 ratedn little cafe set beautiful loca...        3.9      400.0   \n",
       "\n",
       "   Mean Rating  \n",
       "0         3.06  \n",
       "1         3.71  "
      ]
     },
     "execution_count": 33,
     "metadata": {},
     "output_type": "execute_result"
    }
   ],
   "source": [
    "zomato.head(2)"
   ]
  },
  {
   "cell_type": "code",
   "execution_count": 34,
   "id": "26472f4a",
   "metadata": {},
   "outputs": [],
   "source": [
    "# Creating tf-idf matrix\n",
    "tfidf = TfidfVectorizer(analyzer='word', ngram_range=(1, 2), min_df=0, stop_words='english')\n",
    "tfidf_matrix = tfidf.fit_transform(zomato['reviews_list'])\n",
    "\n",
    "cosine_similarities = linear_kernel(tfidf_matrix, tfidf_matrix)"
   ]
  },
  {
   "cell_type": "code",
   "execution_count": 35,
   "id": "38791c3e",
   "metadata": {},
   "outputs": [
    {
     "data": {
      "text/plain": [
       "(7184, 7184)"
      ]
     },
     "execution_count": 35,
     "metadata": {},
     "output_type": "execute_result"
    }
   ],
   "source": [
    "cosine_similarities.shape"
   ]
  },
  {
   "cell_type": "code",
   "execution_count": 36,
   "id": "1aa6dfdd",
   "metadata": {},
   "outputs": [],
   "source": [
    "def recommend(name, cosine_similarities = cosine_similarities):\n",
    "    \n",
    "    # Create a list to put top restaurants\n",
    "    recommend_restaurant = []\n",
    "    \n",
    "    # Find the index of the hotel entered\n",
    "    idx = indices[indices == name].index[0]\n",
    "    \n",
    "    \n",
    "    # Find the restaurants with a similar cosine-sim value and order them from bigges number\n",
    "    score_series = pd.Series(cosine_similarities[idx]).sort_values(ascending=False)\n",
    "    \n",
    "    # Extract top 30 restaurant indexes with a similar cosine-sim value\n",
    "    top30_indexes = list(score_series.iloc[0:31].index)\n",
    "    \n",
    "    # Names of the top 30 restaurants\n",
    "    for each in top30_indexes:\n",
    "        recommend_restaurant.append(list(zomato.index)[each])\n",
    "    \n",
    "    # Creating the new data set to show similar restaurants\n",
    "    df_new = pd.DataFrame(columns=['cuisines', 'Mean Rating', 'mean_cost'])\n",
    "    \n",
    "    # Create the top 30 similar restaurants with some of their columns\n",
    "    for each in recommend_restaurant:\n",
    "        df_new = df_new.append(pd.DataFrame(zomato[['cuisines','Mean Rating', 'mean_cost']][zomato.index == each].sample()))\n",
    "    \n",
    "    # Drop the same named restaurants and sort only the top 10 by the highest rating\n",
    "    df_new = df_new.drop_duplicates(subset=['cuisines','Mean Rating', 'mean_cost'], keep=False)\n",
    "    df_new = df_new.sort_values(by='Mean Rating', ascending=False).head()\n",
    "    \n",
    "    print('TOP %s RESTAURANTS LIKE %s WITH SIMILAR REVIEWS: ' % (str(len(df_new)), name))\n",
    "    \n",
    "    return df_new"
   ]
  },
  {
   "cell_type": "code",
   "execution_count": 37,
   "id": "76bf3fb4",
   "metadata": {},
   "outputs": [
    {
     "name": "stdout",
     "output_type": "stream",
     "text": [
      "TOP 5 RESTAURANTS LIKE Pai Vihar WITH SIMILAR REVIEWS: \n"
     ]
    }
   ],
   "source": [
    "df_new = recommend('Pai Vihar')"
   ]
  },
  {
   "cell_type": "code",
   "execution_count": 38,
   "id": "1ea5e60b",
   "metadata": {},
   "outputs": [
    {
     "data": {
      "text/html": [
       "<div>\n",
       "<style scoped>\n",
       "    .dataframe tbody tr th:only-of-type {\n",
       "        vertical-align: middle;\n",
       "    }\n",
       "\n",
       "    .dataframe tbody tr th {\n",
       "        vertical-align: top;\n",
       "    }\n",
       "\n",
       "    .dataframe thead th {\n",
       "        text-align: right;\n",
       "    }\n",
       "</style>\n",
       "<table border=\"1\" class=\"dataframe\">\n",
       "  <thead>\n",
       "    <tr style=\"text-align: right;\">\n",
       "      <th></th>\n",
       "      <th>cuisines</th>\n",
       "      <th>Mean Rating</th>\n",
       "      <th>mean_cost</th>\n",
       "    </tr>\n",
       "  </thead>\n",
       "  <tbody>\n",
       "    <tr>\n",
       "      <th>1171</th>\n",
       "      <td>American, Cafe, Continental,American, Cafe, Co...</td>\n",
       "      <td>4.35</td>\n",
       "      <td>1.7</td>\n",
       "    </tr>\n",
       "    <tr>\n",
       "      <th>1167</th>\n",
       "      <td>American, Cafe, Continental</td>\n",
       "      <td>4.35</td>\n",
       "      <td>1.7</td>\n",
       "    </tr>\n",
       "    <tr>\n",
       "      <th>3602</th>\n",
       "      <td>Cafe, Desserts,Cafe, Desserts,Cafe, Desserts,C...</td>\n",
       "      <td>4.35</td>\n",
       "      <td>800.0</td>\n",
       "    </tr>\n",
       "    <tr>\n",
       "      <th>6487</th>\n",
       "      <td>Chinese,Chinese,Chinese,Chinese,Chinese</td>\n",
       "      <td>4.28</td>\n",
       "      <td>3.5</td>\n",
       "    </tr>\n",
       "    <tr>\n",
       "      <th>5694</th>\n",
       "      <td>North Eastern, Asian, Naga, Steak, Momos,North...</td>\n",
       "      <td>4.23</td>\n",
       "      <td>800.0</td>\n",
       "    </tr>\n",
       "  </tbody>\n",
       "</table>\n",
       "</div>"
      ],
      "text/plain": [
       "                                               cuisines  Mean Rating  \\\n",
       "1171  American, Cafe, Continental,American, Cafe, Co...         4.35   \n",
       "1167                        American, Cafe, Continental         4.35   \n",
       "3602  Cafe, Desserts,Cafe, Desserts,Cafe, Desserts,C...         4.35   \n",
       "6487            Chinese,Chinese,Chinese,Chinese,Chinese         4.28   \n",
       "5694  North Eastern, Asian, Naga, Steak, Momos,North...         4.23   \n",
       "\n",
       "      mean_cost  \n",
       "1171        1.7  \n",
       "1167        1.7  \n",
       "3602      800.0  \n",
       "6487        3.5  \n",
       "5694      800.0  "
      ]
     },
     "execution_count": 38,
     "metadata": {},
     "output_type": "execute_result"
    }
   ],
   "source": [
    "df_new"
   ]
  },
  {
   "cell_type": "code",
   "execution_count": 39,
   "id": "fcc44b53",
   "metadata": {},
   "outputs": [],
   "source": [
    "pickle.dump(zomato.to_dict(),open('rest_name.pkl','wb'))\n",
    "#df_new.to_pickle('restaurant_dict.pkl')"
   ]
  },
  {
   "cell_type": "code",
   "execution_count": 40,
   "id": "212b5fc9",
   "metadata": {},
   "outputs": [],
   "source": [
    "pickle.dump(cosine_similarities,open('similarity.pkl', 'wb'))"
   ]
  },
  {
   "cell_type": "code",
   "execution_count": 41,
   "id": "70210e96",
   "metadata": {},
   "outputs": [],
   "source": [
    "## Pycharm code test"
   ]
  },
  {
   "cell_type": "code",
   "execution_count": 42,
   "id": "31c42ef9",
   "metadata": {},
   "outputs": [],
   "source": [
    "restaurant_dict = pickle.load(open('rest_name.pkl','rb'))\n",
    "restaurant = pd.DataFrame(restaurant_dict)"
   ]
  },
  {
   "cell_type": "code",
   "execution_count": 43,
   "id": "c6c57406",
   "metadata": {},
   "outputs": [],
   "source": [
    "rest_index = restaurant[restaurant['name'] == 'Pai Vihar'].index[0]"
   ]
  },
  {
   "cell_type": "code",
   "execution_count": 44,
   "id": "1dbfd73a",
   "metadata": {},
   "outputs": [
    {
     "name": "stdout",
     "output_type": "stream",
     "text": [
      "4636\n"
     ]
    }
   ],
   "source": [
    "print(rest_index)"
   ]
  },
  {
   "cell_type": "code",
   "execution_count": 45,
   "id": "45ed78a1",
   "metadata": {},
   "outputs": [],
   "source": [
    "similarity = pickle.load(open('similarity.pkl','rb'))\n",
    "distances = similarity[rest_index]"
   ]
  },
  {
   "cell_type": "code",
   "execution_count": 46,
   "id": "35a469be",
   "metadata": {},
   "outputs": [
    {
     "name": "stdout",
     "output_type": "stream",
     "text": [
      "[0.75916596 0.35771326 0.00944374 ... 0.01181826 0.0064631  0.00507652]\n"
     ]
    }
   ],
   "source": [
    "print(distances)"
   ]
  },
  {
   "cell_type": "code",
   "execution_count": 47,
   "id": "0f0d3e40",
   "metadata": {},
   "outputs": [],
   "source": [
    "restaurant.reset_index(inplace=True)"
   ]
  },
  {
   "cell_type": "code",
   "execution_count": 48,
   "id": "00b3dbb3",
   "metadata": {},
   "outputs": [
    {
     "name": "stdout",
     "output_type": "stream",
     "text": [
      "[(7182, 0.006463103863318846), (7181, 0.01181825664336817), (7180, 0.0018822417030589093), (7179, 0.38336960237586726), (7178, 0.007351103652282357)]\n"
     ]
    }
   ],
   "source": [
    "restaurant_list = sorted(list(enumerate(distances)), reverse=True, key=lambda x: x[0])[1:6]\n",
    "print(restaurant_list)"
   ]
  },
  {
   "cell_type": "code",
   "execution_count": 49,
   "id": "261ed405",
   "metadata": {},
   "outputs": [],
   "source": [
    "recommended_rest = []\n",
    "for i in restaurant_list:\n",
    "    recommended_rest.append(restaurant.iloc[i[0],1])"
   ]
  },
  {
   "cell_type": "code",
   "execution_count": 50,
   "id": "e722bbd9",
   "metadata": {},
   "outputs": [
    {
     "name": "stdout",
     "output_type": "stream",
     "text": [
      "['Zyara', \"Zu'S Doner Kebaps\", 'Zoroy Luxury Chocolate', \"Zoey'S\", 'Zodiac Grills']\n"
     ]
    }
   ],
   "source": [
    "print(recommended_rest)"
   ]
  },
  {
   "cell_type": "code",
   "execution_count": null,
   "id": "7e2aa4c1",
   "metadata": {},
   "outputs": [],
   "source": []
  }
 ],
 "metadata": {
  "kernelspec": {
   "display_name": "Python 3 (ipykernel)",
   "language": "python",
   "name": "python3"
  },
  "language_info": {
   "codemirror_mode": {
    "name": "ipython",
    "version": 3
   },
   "file_extension": ".py",
   "mimetype": "text/x-python",
   "name": "python",
   "nbconvert_exporter": "python",
   "pygments_lexer": "ipython3",
   "version": "3.11.3"
  }
 },
 "nbformat": 4,
 "nbformat_minor": 5
}
